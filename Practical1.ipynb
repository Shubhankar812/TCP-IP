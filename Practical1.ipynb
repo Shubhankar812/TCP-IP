{
 "cells": [
  {
   "cell_type": "code",
   "execution_count": 17,
   "id": "d6f8b066",
   "metadata": {},
   "outputs": [
    {
     "name": "stdout",
     "output_type": "stream",
     "text": [
      "Binary IP: 11000000101010000000000100000010\n",
      "Decimal IP: 192.168.1.2\n"
     ]
    }
   ],
   "source": [
    "def binary_to_decimal(binary):\n",
    "    decimal_parts = []\n",
    "    for i in range(0, len(binary), 8):\n",
    "        decimal_parts.append(str(int(binary[i:i+8], 2)))\n",
    "    decimal_ip = \".\".join(decimal_parts)\n",
    "    return decimal_ip\n",
    "\n",
    "binary_ip = \"11000000.10101000.00000001.00000010\"  # Example binary IP address\n",
    "binary_ip = binary_ip.replace(\".\", \"\")  # Remove dots\n",
    "decimal_ip = binary_to_decimal(binary_ip)\n",
    "print(\"Binary IP:\", binary_ip)\n",
    "print(\"Decimal IP:\", decimal_ip)"
   ]
  },
  {
   "cell_type": "code",
   "execution_count": null,
   "id": "8c6af9c6",
   "metadata": {},
   "outputs": [],
   "source": []
  }
 ],
 "metadata": {
  "kernelspec": {
   "display_name": "Python 3 (ipykernel)",
   "language": "python",
   "name": "python3"
  },
  "language_info": {
   "codemirror_mode": {
    "name": "ipython",
    "version": 3
   },
   "file_extension": ".py",
   "mimetype": "text/x-python",
   "name": "python",
   "nbconvert_exporter": "python",
   "pygments_lexer": "ipython3",
   "version": "3.10.6"
  }
 },
 "nbformat": 4,
 "nbformat_minor": 5
}
